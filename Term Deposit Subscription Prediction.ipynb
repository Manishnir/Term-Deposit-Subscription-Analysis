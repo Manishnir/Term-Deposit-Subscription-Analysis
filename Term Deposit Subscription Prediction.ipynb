{
 "cells": [
  {
   "cell_type": "code",
   "execution_count": 145,
   "metadata": {},
   "outputs": [],
   "source": [
    "import pandas as pd\n",
    "import numpy as np\n",
    "import matplotlib.pyplot as plt\n",
    "import seaborn as sns\n",
    "from sklearn import metrics"
   ]
  },
  {
   "cell_type": "code",
   "execution_count": 76,
   "metadata": {},
   "outputs": [],
   "source": [
    "td= pd.read_csv('bank-additional-full.csv',sep=';')"
   ]
  },
  {
   "cell_type": "code",
   "execution_count": 77,
   "metadata": {},
   "outputs": [
    {
     "data": {
      "text/html": [
       "<div>\n",
       "<style scoped>\n",
       "    .dataframe tbody tr th:only-of-type {\n",
       "        vertical-align: middle;\n",
       "    }\n",
       "\n",
       "    .dataframe tbody tr th {\n",
       "        vertical-align: top;\n",
       "    }\n",
       "\n",
       "    .dataframe thead th {\n",
       "        text-align: right;\n",
       "    }\n",
       "</style>\n",
       "<table border=\"1\" class=\"dataframe\">\n",
       "  <thead>\n",
       "    <tr style=\"text-align: right;\">\n",
       "      <th></th>\n",
       "      <th>age</th>\n",
       "      <th>job</th>\n",
       "      <th>marital</th>\n",
       "      <th>education</th>\n",
       "      <th>default</th>\n",
       "      <th>housing</th>\n",
       "      <th>loan</th>\n",
       "      <th>contact</th>\n",
       "      <th>month</th>\n",
       "      <th>day_of_week</th>\n",
       "      <th>duration</th>\n",
       "      <th>campaign</th>\n",
       "      <th>pdays</th>\n",
       "      <th>previous</th>\n",
       "      <th>poutcome</th>\n",
       "      <th>emp.var.rate</th>\n",
       "      <th>cons.price.idx</th>\n",
       "      <th>cons.conf.idx</th>\n",
       "      <th>euribor3m</th>\n",
       "      <th>nr.employed</th>\n",
       "      <th>y</th>\n",
       "    </tr>\n",
       "  </thead>\n",
       "  <tbody>\n",
       "    <tr>\n",
       "      <th>0</th>\n",
       "      <td>56</td>\n",
       "      <td>housemaid</td>\n",
       "      <td>married</td>\n",
       "      <td>basic.4y</td>\n",
       "      <td>no</td>\n",
       "      <td>no</td>\n",
       "      <td>no</td>\n",
       "      <td>telephone</td>\n",
       "      <td>may</td>\n",
       "      <td>mon</td>\n",
       "      <td>261</td>\n",
       "      <td>1</td>\n",
       "      <td>999</td>\n",
       "      <td>0</td>\n",
       "      <td>nonexistent</td>\n",
       "      <td>1.1</td>\n",
       "      <td>93.994</td>\n",
       "      <td>-36.4</td>\n",
       "      <td>4.857</td>\n",
       "      <td>5191.0</td>\n",
       "      <td>no</td>\n",
       "    </tr>\n",
       "    <tr>\n",
       "      <th>1</th>\n",
       "      <td>57</td>\n",
       "      <td>services</td>\n",
       "      <td>married</td>\n",
       "      <td>high.school</td>\n",
       "      <td>unknown</td>\n",
       "      <td>no</td>\n",
       "      <td>no</td>\n",
       "      <td>telephone</td>\n",
       "      <td>may</td>\n",
       "      <td>mon</td>\n",
       "      <td>149</td>\n",
       "      <td>1</td>\n",
       "      <td>999</td>\n",
       "      <td>0</td>\n",
       "      <td>nonexistent</td>\n",
       "      <td>1.1</td>\n",
       "      <td>93.994</td>\n",
       "      <td>-36.4</td>\n",
       "      <td>4.857</td>\n",
       "      <td>5191.0</td>\n",
       "      <td>no</td>\n",
       "    </tr>\n",
       "    <tr>\n",
       "      <th>2</th>\n",
       "      <td>37</td>\n",
       "      <td>services</td>\n",
       "      <td>married</td>\n",
       "      <td>high.school</td>\n",
       "      <td>no</td>\n",
       "      <td>yes</td>\n",
       "      <td>no</td>\n",
       "      <td>telephone</td>\n",
       "      <td>may</td>\n",
       "      <td>mon</td>\n",
       "      <td>226</td>\n",
       "      <td>1</td>\n",
       "      <td>999</td>\n",
       "      <td>0</td>\n",
       "      <td>nonexistent</td>\n",
       "      <td>1.1</td>\n",
       "      <td>93.994</td>\n",
       "      <td>-36.4</td>\n",
       "      <td>4.857</td>\n",
       "      <td>5191.0</td>\n",
       "      <td>no</td>\n",
       "    </tr>\n",
       "    <tr>\n",
       "      <th>3</th>\n",
       "      <td>40</td>\n",
       "      <td>admin.</td>\n",
       "      <td>married</td>\n",
       "      <td>basic.6y</td>\n",
       "      <td>no</td>\n",
       "      <td>no</td>\n",
       "      <td>no</td>\n",
       "      <td>telephone</td>\n",
       "      <td>may</td>\n",
       "      <td>mon</td>\n",
       "      <td>151</td>\n",
       "      <td>1</td>\n",
       "      <td>999</td>\n",
       "      <td>0</td>\n",
       "      <td>nonexistent</td>\n",
       "      <td>1.1</td>\n",
       "      <td>93.994</td>\n",
       "      <td>-36.4</td>\n",
       "      <td>4.857</td>\n",
       "      <td>5191.0</td>\n",
       "      <td>no</td>\n",
       "    </tr>\n",
       "    <tr>\n",
       "      <th>4</th>\n",
       "      <td>56</td>\n",
       "      <td>services</td>\n",
       "      <td>married</td>\n",
       "      <td>high.school</td>\n",
       "      <td>no</td>\n",
       "      <td>no</td>\n",
       "      <td>yes</td>\n",
       "      <td>telephone</td>\n",
       "      <td>may</td>\n",
       "      <td>mon</td>\n",
       "      <td>307</td>\n",
       "      <td>1</td>\n",
       "      <td>999</td>\n",
       "      <td>0</td>\n",
       "      <td>nonexistent</td>\n",
       "      <td>1.1</td>\n",
       "      <td>93.994</td>\n",
       "      <td>-36.4</td>\n",
       "      <td>4.857</td>\n",
       "      <td>5191.0</td>\n",
       "      <td>no</td>\n",
       "    </tr>\n",
       "    <tr>\n",
       "      <th>...</th>\n",
       "      <td>...</td>\n",
       "      <td>...</td>\n",
       "      <td>...</td>\n",
       "      <td>...</td>\n",
       "      <td>...</td>\n",
       "      <td>...</td>\n",
       "      <td>...</td>\n",
       "      <td>...</td>\n",
       "      <td>...</td>\n",
       "      <td>...</td>\n",
       "      <td>...</td>\n",
       "      <td>...</td>\n",
       "      <td>...</td>\n",
       "      <td>...</td>\n",
       "      <td>...</td>\n",
       "      <td>...</td>\n",
       "      <td>...</td>\n",
       "      <td>...</td>\n",
       "      <td>...</td>\n",
       "      <td>...</td>\n",
       "      <td>...</td>\n",
       "    </tr>\n",
       "    <tr>\n",
       "      <th>41183</th>\n",
       "      <td>73</td>\n",
       "      <td>retired</td>\n",
       "      <td>married</td>\n",
       "      <td>professional.course</td>\n",
       "      <td>no</td>\n",
       "      <td>yes</td>\n",
       "      <td>no</td>\n",
       "      <td>cellular</td>\n",
       "      <td>nov</td>\n",
       "      <td>fri</td>\n",
       "      <td>334</td>\n",
       "      <td>1</td>\n",
       "      <td>999</td>\n",
       "      <td>0</td>\n",
       "      <td>nonexistent</td>\n",
       "      <td>-1.1</td>\n",
       "      <td>94.767</td>\n",
       "      <td>-50.8</td>\n",
       "      <td>1.028</td>\n",
       "      <td>4963.6</td>\n",
       "      <td>yes</td>\n",
       "    </tr>\n",
       "    <tr>\n",
       "      <th>41184</th>\n",
       "      <td>46</td>\n",
       "      <td>blue-collar</td>\n",
       "      <td>married</td>\n",
       "      <td>professional.course</td>\n",
       "      <td>no</td>\n",
       "      <td>no</td>\n",
       "      <td>no</td>\n",
       "      <td>cellular</td>\n",
       "      <td>nov</td>\n",
       "      <td>fri</td>\n",
       "      <td>383</td>\n",
       "      <td>1</td>\n",
       "      <td>999</td>\n",
       "      <td>0</td>\n",
       "      <td>nonexistent</td>\n",
       "      <td>-1.1</td>\n",
       "      <td>94.767</td>\n",
       "      <td>-50.8</td>\n",
       "      <td>1.028</td>\n",
       "      <td>4963.6</td>\n",
       "      <td>no</td>\n",
       "    </tr>\n",
       "    <tr>\n",
       "      <th>41185</th>\n",
       "      <td>56</td>\n",
       "      <td>retired</td>\n",
       "      <td>married</td>\n",
       "      <td>university.degree</td>\n",
       "      <td>no</td>\n",
       "      <td>yes</td>\n",
       "      <td>no</td>\n",
       "      <td>cellular</td>\n",
       "      <td>nov</td>\n",
       "      <td>fri</td>\n",
       "      <td>189</td>\n",
       "      <td>2</td>\n",
       "      <td>999</td>\n",
       "      <td>0</td>\n",
       "      <td>nonexistent</td>\n",
       "      <td>-1.1</td>\n",
       "      <td>94.767</td>\n",
       "      <td>-50.8</td>\n",
       "      <td>1.028</td>\n",
       "      <td>4963.6</td>\n",
       "      <td>no</td>\n",
       "    </tr>\n",
       "    <tr>\n",
       "      <th>41186</th>\n",
       "      <td>44</td>\n",
       "      <td>technician</td>\n",
       "      <td>married</td>\n",
       "      <td>professional.course</td>\n",
       "      <td>no</td>\n",
       "      <td>no</td>\n",
       "      <td>no</td>\n",
       "      <td>cellular</td>\n",
       "      <td>nov</td>\n",
       "      <td>fri</td>\n",
       "      <td>442</td>\n",
       "      <td>1</td>\n",
       "      <td>999</td>\n",
       "      <td>0</td>\n",
       "      <td>nonexistent</td>\n",
       "      <td>-1.1</td>\n",
       "      <td>94.767</td>\n",
       "      <td>-50.8</td>\n",
       "      <td>1.028</td>\n",
       "      <td>4963.6</td>\n",
       "      <td>yes</td>\n",
       "    </tr>\n",
       "    <tr>\n",
       "      <th>41187</th>\n",
       "      <td>74</td>\n",
       "      <td>retired</td>\n",
       "      <td>married</td>\n",
       "      <td>professional.course</td>\n",
       "      <td>no</td>\n",
       "      <td>yes</td>\n",
       "      <td>no</td>\n",
       "      <td>cellular</td>\n",
       "      <td>nov</td>\n",
       "      <td>fri</td>\n",
       "      <td>239</td>\n",
       "      <td>3</td>\n",
       "      <td>999</td>\n",
       "      <td>1</td>\n",
       "      <td>failure</td>\n",
       "      <td>-1.1</td>\n",
       "      <td>94.767</td>\n",
       "      <td>-50.8</td>\n",
       "      <td>1.028</td>\n",
       "      <td>4963.6</td>\n",
       "      <td>no</td>\n",
       "    </tr>\n",
       "  </tbody>\n",
       "</table>\n",
       "<p>41188 rows × 21 columns</p>\n",
       "</div>"
      ],
      "text/plain": [
       "       age          job  marital            education  default housing loan  \\\n",
       "0       56    housemaid  married             basic.4y       no      no   no   \n",
       "1       57     services  married          high.school  unknown      no   no   \n",
       "2       37     services  married          high.school       no     yes   no   \n",
       "3       40       admin.  married             basic.6y       no      no   no   \n",
       "4       56     services  married          high.school       no      no  yes   \n",
       "...    ...          ...      ...                  ...      ...     ...  ...   \n",
       "41183   73      retired  married  professional.course       no     yes   no   \n",
       "41184   46  blue-collar  married  professional.course       no      no   no   \n",
       "41185   56      retired  married    university.degree       no     yes   no   \n",
       "41186   44   technician  married  professional.course       no      no   no   \n",
       "41187   74      retired  married  professional.course       no     yes   no   \n",
       "\n",
       "         contact month day_of_week  duration  campaign  pdays  previous  \\\n",
       "0      telephone   may         mon       261         1    999         0   \n",
       "1      telephone   may         mon       149         1    999         0   \n",
       "2      telephone   may         mon       226         1    999         0   \n",
       "3      telephone   may         mon       151         1    999         0   \n",
       "4      telephone   may         mon       307         1    999         0   \n",
       "...          ...   ...         ...       ...       ...    ...       ...   \n",
       "41183   cellular   nov         fri       334         1    999         0   \n",
       "41184   cellular   nov         fri       383         1    999         0   \n",
       "41185   cellular   nov         fri       189         2    999         0   \n",
       "41186   cellular   nov         fri       442         1    999         0   \n",
       "41187   cellular   nov         fri       239         3    999         1   \n",
       "\n",
       "          poutcome  emp.var.rate  cons.price.idx  cons.conf.idx  euribor3m  \\\n",
       "0      nonexistent           1.1          93.994          -36.4      4.857   \n",
       "1      nonexistent           1.1          93.994          -36.4      4.857   \n",
       "2      nonexistent           1.1          93.994          -36.4      4.857   \n",
       "3      nonexistent           1.1          93.994          -36.4      4.857   \n",
       "4      nonexistent           1.1          93.994          -36.4      4.857   \n",
       "...            ...           ...             ...            ...        ...   \n",
       "41183  nonexistent          -1.1          94.767          -50.8      1.028   \n",
       "41184  nonexistent          -1.1          94.767          -50.8      1.028   \n",
       "41185  nonexistent          -1.1          94.767          -50.8      1.028   \n",
       "41186  nonexistent          -1.1          94.767          -50.8      1.028   \n",
       "41187      failure          -1.1          94.767          -50.8      1.028   \n",
       "\n",
       "       nr.employed    y  \n",
       "0           5191.0   no  \n",
       "1           5191.0   no  \n",
       "2           5191.0   no  \n",
       "3           5191.0   no  \n",
       "4           5191.0   no  \n",
       "...            ...  ...  \n",
       "41183       4963.6  yes  \n",
       "41184       4963.6   no  \n",
       "41185       4963.6   no  \n",
       "41186       4963.6  yes  \n",
       "41187       4963.6   no  \n",
       "\n",
       "[41188 rows x 21 columns]"
      ]
     },
     "execution_count": 77,
     "metadata": {},
     "output_type": "execute_result"
    }
   ],
   "source": [
    "td"
   ]
  },
  {
   "cell_type": "code",
   "execution_count": 78,
   "metadata": {},
   "outputs": [
    {
     "data": {
      "text/plain": [
       "age               0\n",
       "job               0\n",
       "marital           0\n",
       "education         0\n",
       "default           0\n",
       "housing           0\n",
       "loan              0\n",
       "contact           0\n",
       "month             0\n",
       "day_of_week       0\n",
       "duration          0\n",
       "campaign          0\n",
       "pdays             0\n",
       "previous          0\n",
       "poutcome          0\n",
       "emp.var.rate      0\n",
       "cons.price.idx    0\n",
       "cons.conf.idx     0\n",
       "euribor3m         0\n",
       "nr.employed       0\n",
       "y                 0\n",
       "dtype: int64"
      ]
     },
     "execution_count": 78,
     "metadata": {},
     "output_type": "execute_result"
    }
   ],
   "source": [
    "td.isnull().sum()"
   ]
  },
  {
   "cell_type": "code",
   "execution_count": 79,
   "metadata": {},
   "outputs": [
    {
     "data": {
      "text/plain": [
       "(41188, 21)"
      ]
     },
     "execution_count": 79,
     "metadata": {},
     "output_type": "execute_result"
    }
   ],
   "source": [
    "td.shape"
   ]
  },
  {
   "cell_type": "code",
   "execution_count": 80,
   "metadata": {},
   "outputs": [
    {
     "data": {
      "text/plain": [
       "no     36548\n",
       "yes     4640\n",
       "Name: y, dtype: int64"
      ]
     },
     "execution_count": 80,
     "metadata": {},
     "output_type": "execute_result"
    }
   ],
   "source": [
    "td['y'].value_counts()"
   ]
  },
  {
   "cell_type": "code",
   "execution_count": 81,
   "metadata": {},
   "outputs": [
    {
     "data": {
      "text/plain": [
       "Index(['age', 'job', 'marital', 'education', 'default', 'housing', 'loan',\n",
       "       'contact', 'month', 'day_of_week', 'duration', 'campaign', 'pdays',\n",
       "       'previous', 'poutcome', 'emp.var.rate', 'cons.price.idx',\n",
       "       'cons.conf.idx', 'euribor3m', 'nr.employed', 'y'],\n",
       "      dtype='object')"
      ]
     },
     "execution_count": 81,
     "metadata": {},
     "output_type": "execute_result"
    }
   ],
   "source": [
    "td.columns"
   ]
  },
  {
   "cell_type": "code",
   "execution_count": 82,
   "metadata": {},
   "outputs": [
    {
     "name": "stdout",
     "output_type": "stream",
     "text": [
      "<class 'pandas.core.frame.DataFrame'>\n",
      "RangeIndex: 41188 entries, 0 to 41187\n",
      "Data columns (total 21 columns):\n",
      " #   Column          Non-Null Count  Dtype  \n",
      "---  ------          --------------  -----  \n",
      " 0   age             41188 non-null  int64  \n",
      " 1   job             41188 non-null  object \n",
      " 2   marital         41188 non-null  object \n",
      " 3   education       41188 non-null  object \n",
      " 4   default         41188 non-null  object \n",
      " 5   housing         41188 non-null  object \n",
      " 6   loan            41188 non-null  object \n",
      " 7   contact         41188 non-null  object \n",
      " 8   month           41188 non-null  object \n",
      " 9   day_of_week     41188 non-null  object \n",
      " 10  duration        41188 non-null  int64  \n",
      " 11  campaign        41188 non-null  int64  \n",
      " 12  pdays           41188 non-null  int64  \n",
      " 13  previous        41188 non-null  int64  \n",
      " 14  poutcome        41188 non-null  object \n",
      " 15  emp.var.rate    41188 non-null  float64\n",
      " 16  cons.price.idx  41188 non-null  float64\n",
      " 17  cons.conf.idx   41188 non-null  float64\n",
      " 18  euribor3m       41188 non-null  float64\n",
      " 19  nr.employed     41188 non-null  float64\n",
      " 20  y               41188 non-null  object \n",
      "dtypes: float64(5), int64(5), object(11)\n",
      "memory usage: 6.6+ MB\n"
     ]
    }
   ],
   "source": [
    "td.info()"
   ]
  },
  {
   "cell_type": "code",
   "execution_count": 83,
   "metadata": {},
   "outputs": [],
   "source": [
    "int_column = td.dtypes[td.dtypes == 'int64'].index | td.dtypes[td.dtypes == 'float64'].index"
   ]
  },
  {
   "cell_type": "code",
   "execution_count": 84,
   "metadata": {},
   "outputs": [
    {
     "data": {
      "text/plain": [
       "<matplotlib.axes._subplots.AxesSubplot at 0x21fc8ffe760>"
      ]
     },
     "execution_count": 84,
     "metadata": {},
     "output_type": "execute_result"
    },
    {
     "data": {
      "image/png": "[encoded data removed]",
      "text/plain": [
       "<Figure size 432x288 with 1 Axes>"
      ]
     },
     "metadata": {
      "needs_background": "light"
     },
     "output_type": "display_data"
    }
   ],
   "source": [
    "sns.distplot(td['age'],hist= True,hist_kws={'edgecolor':'black'} )"
   ]
  },
  {
   "cell_type": "code",
   "execution_count": 85,
   "metadata": {},
   "outputs": [
    {
     "data": {
      "text/plain": [
       "[Text(0, 0, 'basic.4y'),\n",
       " Text(0, 0, 'high.school'),\n",
       " Text(0, 0, 'basic.6y'),\n",
       " Text(0, 0, 'basic.9y'),\n",
       " Text(0, 0, 'professional.course'),\n",
       " Text(0, 0, 'unknown'),\n",
       " Text(0, 0, 'university.degree'),\n",
       " Text(0, 0, 'illiterate')]"
      ]
     },
     "execution_count": 85,
     "metadata": {},
     "output_type": "execute_result"
    },
    {
     "data": {
      "image/png": "[encoded data removed]",
      "text/plain": [
       "<Figure size 936x360 with 2 Axes>"
      ]
     },
     "metadata": {
      "needs_background": "light"
     },
     "output_type": "display_data"
    }
   ],
   "source": [
    "fig, (ax1, ax2) = plt.subplots(nrows = 1, ncols = 2, figsize = (13, 5))\n",
    "# First plot for marital status\n",
    "sns.countplot(x = \"marital\", data = td, ax = ax1)\n",
    "ax1.set_title(\"marital status distribution\", fontsize = 13)\n",
    "ax1.set_xlabel(\"Marital Status\", fontsize = 12)\n",
    "ax1.set_ylabel(\"Count\", fontsize = 12)\n",
    "\n",
    "# Second plot for Education distribution\n",
    "sns.countplot(x = \"education\", data = td, ax = ax2)\n",
    "ax2.set_title(\"Education distribution\", fontsize = 13)\n",
    "ax2.set_xlabel(\"Education level\", fontsize = 12)\n",
    "ax2.set_ylabel(\"Count\", fontsize = 12)\n",
    "ax2.set_xticklabels(ax2.get_xticklabels(), rotation = 70)\n"
   ]
  },
  {
   "cell_type": "code",
   "execution_count": 86,
   "metadata": {},
   "outputs": [
    {
     "data": {
      "text/plain": [
       "Text(0, 0.5, 'Count')"
      ]
     },
     "execution_count": 86,
     "metadata": {},
     "output_type": "execute_result"
    },
    {
     "data": {
      "image/png": "[encoded data removed]",
      "text/plain": [
       "<Figure size 936x360 with 1 Axes>"
      ]
     },
     "metadata": {
      "needs_background": "light"
     },
     "output_type": "display_data"
    }
   ],
   "source": [
    "fig,ax =plt.subplots(figsize=(13,5))\n",
    "sns.countplot(x='job', data=td)\n",
    "ax.set_title('Job Count',fontsize= 12)\n",
    "ax.set_xlabel('Job type',fontsize= 12)\n",
    "ax.set_ylabel('Count',fontsize= 12)"
   ]
  },
  {
   "cell_type": "code",
   "execution_count": 87,
   "metadata": {},
   "outputs": [
    {
     "data": {
      "text/plain": [
       "Text(0, 0.5, 'Count')"
      ]
     },
     "execution_count": 87,
     "metadata": {},
     "output_type": "execute_result"
    },
    {
     "data": {
      "image/png": "[encoded data removed]",
      "text/plain": [
       "<Figure size 936x360 with 2 Axes>"
      ]
     },
     "metadata": {
      "needs_background": "light"
     },
     "output_type": "display_data"
    }
   ],
   "source": [
    "fig,(ax1,ax2)= plt.subplots(nrows= 1, ncols=2, figsize=(13,5))\n",
    "\n",
    "sns.countplot(x='housing', data= td,ax= ax1)\n",
    "ax1.set_title('Housing loan Distribution',fontsize=12)\n",
    "ax1.set_xlabel('Hosuing Loan Taken',fontsize=12)\n",
    "ax1.set_ylabel('Count',fontsize=12)\n",
    "\n",
    "sns.countplot(x='loan', data= td, ax= ax2)\n",
    "ax2.set_title('Personal loan Distribution',fontsize=12)\n",
    "ax2.set_xlabel('Personal Loan Taken',fontsize=12)\n",
    "ax2.set_ylabel('Count',fontsize=12)\n"
   ]
  },
  {
   "cell_type": "code",
   "execution_count": 88,
   "metadata": {
    "scrolled": true
   },
   "outputs": [
    {
     "name": "stdout",
     "output_type": "stream",
     "text": [
      "Number of people with credit default: 3\n",
      "Number of people with no credit default: 32588\n",
      "Number of people whose credit default is unknown: 8597\n"
     ]
    }
   ],
   "source": [
    "print('Number of people with credit default:',td[td['default']== 'yes']['default'].count())\n",
    "print('Number of people with no credit default:',td[td['default']== 'no']['default'].count())\n",
    "print('Number of people whose credit default is unknown:',td[td['default']== 'unknown']['default'].count())\n",
    "      "
   ]
  },
  {
   "cell_type": "code",
   "execution_count": 89,
   "metadata": {},
   "outputs": [
    {
     "name": "stdout",
     "output_type": "stream",
     "text": [
      "Number of people with Hosuing Loan: 21576\n",
      "Number of people with no Hosuing Loan: 18622\n",
      "Number of people whose Hosuing Loan status is unknown: 990\n"
     ]
    }
   ],
   "source": [
    "print('Number of people with Hosuing Loan:',td[td['housing']== 'yes']['housing'].count())\n",
    "print('Number of people with no Hosuing Loan:',td[td['housing']== 'no']['housing'].count())\n",
    "print('Number of people whose Hosuing Loan status is unknown:',td[td['housing']== 'unknown']['housing'].count())\n",
    "      "
   ]
  },
  {
   "cell_type": "code",
   "execution_count": 90,
   "metadata": {},
   "outputs": [
    {
     "name": "stdout",
     "output_type": "stream",
     "text": [
      "Number of people with Personal Loan: 6248\n",
      "Number of people with no Personal Loan: 33950\n",
      "Number of people whose Personal Loan status is unknown: 990\n"
     ]
    }
   ],
   "source": [
    "print('Number of people with Personal Loan:',td[td['loan']== 'yes']['loan'].count())\n",
    "print('Number of people with no Personal Loan:',td[td['loan']== 'no']['loan'].count())\n",
    "print('Number of people whose Personal Loan status is unknown:',td[td['loan']== 'unknown']['loan'].count())\n",
    "      "
   ]
  },
  {
   "cell_type": "code",
   "execution_count": 91,
   "metadata": {},
   "outputs": [
    {
     "data": {
      "text/plain": [
       "Text(0, 0.5, 'Count')"
      ]
     },
     "execution_count": 91,
     "metadata": {},
     "output_type": "execute_result"
    },
    {
     "data": {
      "image/png": "[encoded data removed]",
      "text/plain": [
       "<Figure size 936x360 with 2 Axes>"
      ]
     },
     "metadata": {
      "needs_background": "light"
     },
     "output_type": "display_data"
    }
   ],
   "source": [
    "fig,(ax1,ax2)= plt.subplots(nrows=1,ncols=2,figsize=(13,5))\n",
    "\n",
    "sns.countplot(x='contact',data=td,ax=ax1)\n",
    "ax1.set_title('Contact Method Distribution',fontsize= 12)\n",
    "ax1.set_xlabel('Contact Method',fontsize= 12)\n",
    "ax1.set_ylabel('Count',fontsize= 12)\n",
    "\n",
    "\n",
    "sns.countplot(x='day_of_week',data= td,ax= ax2)\n",
    "ax2.set_title('Day of week Distribution',fontsize= 12)\n",
    "ax2.set_xlabel('Day of Week',fontsize= 12)\n",
    "ax2.set_ylabel('Count',fontsize= 12)\n"
   ]
  },
  {
   "cell_type": "code",
   "execution_count": 92,
   "metadata": {},
   "outputs": [],
   "source": [
    "#Checking if there exists a relation between Duration of call and Jobs"
   ]
  },
  {
   "cell_type": "code",
   "execution_count": 93,
   "metadata": {},
   "outputs": [
    {
     "data": {
      "image/png": "[encoded data removed]",
      "text/plain": [
       "<Figure size 1080x360 with 1 Axes>"
      ]
     },
     "metadata": {
      "needs_background": "light"
     },
     "output_type": "display_data"
    }
   ],
   "source": [
    "fig, ax= plt.subplots(figsize=(15,5))\n",
    "sns.boxplot(x='job',y='duration',data=td,orient='v')\n",
    "ax.set_title('Relationship between Call duration and Job')\n",
    "ax.set_xlabel('Job',fontsize=12)\n",
    "ax.set_ylabel('duration',fontsize=12)\n",
    "ax.set_yscale('log')"
   ]
  },
  {
   "cell_type": "code",
   "execution_count": 94,
   "metadata": {},
   "outputs": [
    {
     "data": {
      "text/plain": [
       "Text(0.5, 1.0, 'log(Duration) vs Education')"
      ]
     },
     "execution_count": 94,
     "metadata": {},
     "output_type": "execute_result"
    },
    {
     "data": {
      "image/png": "[encoded data removed]",
      "text/plain": [
       "<Figure size 1080x360 with 1 Axes>"
      ]
     },
     "metadata": {
      "needs_background": "light"
     },
     "output_type": "display_data"
    }
   ],
   "source": [
    "#Checking if there is a relation between average duration of call and eduacation\n",
    "\n",
    "fig, ax = plt.subplots(figsize = (15, 5))\n",
    "sns.boxplot(x = \"education\", y = \"duration\", data = td, orient = 'v')\n",
    "ax.set_xlabel(\"Education\")\n",
    "ax.set_ylabel(\"Duration\")\n",
    "ax.set_yscale(\"log\")\n",
    "ax.set_title(\"log(Duration) vs Education\")\n"
   ]
  },
  {
   "cell_type": "markdown",
   "metadata": {},
   "source": [
    "From the above graph we can observe that the average duration of call is less with illiterates."
   ]
  },
  {
   "cell_type": "code",
   "execution_count": 95,
   "metadata": {},
   "outputs": [
    {
     "data": {
      "text/plain": [
       "Text(0.5, 1.0, 'marketing campaign vs outcome')"
      ]
     },
     "execution_count": 95,
     "metadata": {},
     "output_type": "execute_result"
    },
    {
     "data": {
      "image/png": "[encoded data removed]",
      "text/plain": [
       "<Figure size 1080x360 with 1 Axes>"
      ]
     },
     "metadata": {
      "needs_background": "light"
     },
     "output_type": "display_data"
    }
   ],
   "source": [
    "#Checking if there is a relation between marketing campaign and it's outcome\n",
    "\n",
    "fig, ax = plt.subplots(figsize = (15, 5))\n",
    "sns.boxplot(x = \"poutcome\", y = \"campaign\", data = td, orient = 'v')\n",
    "ax.set_xlabel(\"poutcome\")\n",
    "ax.set_ylabel(\"campaign\")\n",
    "ax.set_title(\"marketing campaign vs outcome\")\n"
   ]
  },
  {
   "cell_type": "markdown",
   "metadata": {},
   "source": [
    "We can see the failure and success is same whereas there as nonexistent cusomters are high even after performing marketing campaign"
   ]
  },
  {
   "cell_type": "code",
   "execution_count": 96,
   "metadata": {},
   "outputs": [],
   "source": [
    "from sklearn.preprocessing import LabelEncoder"
   ]
  },
  {
   "cell_type": "code",
   "execution_count": 97,
   "metadata": {},
   "outputs": [],
   "source": [
    "le= LabelEncoder()"
   ]
  },
  {
   "cell_type": "code",
   "execution_count": 98,
   "metadata": {},
   "outputs": [],
   "source": [
    "td[\"job\"] = le.fit_transform(td[\"job\"])\n",
    "td[\"marital\"] = le.fit_transform(td[\"marital\"])\n",
    "td[\"education\"] = le.fit_transform(td[\"education\"])\n",
    "td[\"default\"] = le.fit_transform(td[\"default\"])\n",
    "td[\"housing\"] = le.fit_transform(td[\"housing\"])\n",
    "td[\"loan\"] = le.fit_transform(td[\"loan\"])\n",
    "td[\"contact\"] = le.fit_transform(td[\"contact\"])\n",
    "td[\"month\"] = le.fit_transform(td[\"month\"])\n",
    "td[\"day_of_week\"] = le.fit_transform(td[\"day_of_week\"])\n",
    "td[\"poutcome\"] = le.fit_transform(td[\"poutcome\"])\n",
    "td[\"y\"] = le.fit_transform(td[\"y\"])"
   ]
  },
  {
   "cell_type": "code",
   "execution_count": 99,
   "metadata": {},
   "outputs": [
    {
     "data": {
      "text/html": [
       "<div>\n",
       "<style scoped>\n",
       "    .dataframe tbody tr th:only-of-type {\n",
       "        vertical-align: middle;\n",
       "    }\n",
       "\n",
       "    .dataframe tbody tr th {\n",
       "        vertical-align: top;\n",
       "    }\n",
       "\n",
       "    .dataframe thead th {\n",
       "        text-align: right;\n",
       "    }\n",
       "</style>\n",
       "<table border=\"1\" class=\"dataframe\">\n",
       "  <thead>\n",
       "    <tr style=\"text-align: right;\">\n",
       "      <th></th>\n",
       "      <th>age</th>\n",
       "      <th>job</th>\n",
       "      <th>marital</th>\n",
       "      <th>education</th>\n",
       "      <th>default</th>\n",
       "      <th>housing</th>\n",
       "      <th>loan</th>\n",
       "      <th>contact</th>\n",
       "      <th>month</th>\n",
       "      <th>day_of_week</th>\n",
       "      <th>duration</th>\n",
       "      <th>campaign</th>\n",
       "      <th>pdays</th>\n",
       "      <th>previous</th>\n",
       "      <th>poutcome</th>\n",
       "      <th>emp.var.rate</th>\n",
       "      <th>cons.price.idx</th>\n",
       "      <th>cons.conf.idx</th>\n",
       "      <th>euribor3m</th>\n",
       "      <th>nr.employed</th>\n",
       "      <th>y</th>\n",
       "    </tr>\n",
       "  </thead>\n",
       "  <tbody>\n",
       "    <tr>\n",
       "      <th>0</th>\n",
       "      <td>56</td>\n",
       "      <td>3</td>\n",
       "      <td>1</td>\n",
       "      <td>0</td>\n",
       "      <td>0</td>\n",
       "      <td>0</td>\n",
       "      <td>0</td>\n",
       "      <td>1</td>\n",
       "      <td>6</td>\n",
       "      <td>1</td>\n",
       "      <td>261</td>\n",
       "      <td>1</td>\n",
       "      <td>999</td>\n",
       "      <td>0</td>\n",
       "      <td>1</td>\n",
       "      <td>1.1</td>\n",
       "      <td>93.994</td>\n",
       "      <td>-36.4</td>\n",
       "      <td>4.857</td>\n",
       "      <td>5191.0</td>\n",
       "      <td>0</td>\n",
       "    </tr>\n",
       "    <tr>\n",
       "      <th>1</th>\n",
       "      <td>57</td>\n",
       "      <td>7</td>\n",
       "      <td>1</td>\n",
       "      <td>3</td>\n",
       "      <td>1</td>\n",
       "      <td>0</td>\n",
       "      <td>0</td>\n",
       "      <td>1</td>\n",
       "      <td>6</td>\n",
       "      <td>1</td>\n",
       "      <td>149</td>\n",
       "      <td>1</td>\n",
       "      <td>999</td>\n",
       "      <td>0</td>\n",
       "      <td>1</td>\n",
       "      <td>1.1</td>\n",
       "      <td>93.994</td>\n",
       "      <td>-36.4</td>\n",
       "      <td>4.857</td>\n",
       "      <td>5191.0</td>\n",
       "      <td>0</td>\n",
       "    </tr>\n",
       "    <tr>\n",
       "      <th>2</th>\n",
       "      <td>37</td>\n",
       "      <td>7</td>\n",
       "      <td>1</td>\n",
       "      <td>3</td>\n",
       "      <td>0</td>\n",
       "      <td>2</td>\n",
       "      <td>0</td>\n",
       "      <td>1</td>\n",
       "      <td>6</td>\n",
       "      <td>1</td>\n",
       "      <td>226</td>\n",
       "      <td>1</td>\n",
       "      <td>999</td>\n",
       "      <td>0</td>\n",
       "      <td>1</td>\n",
       "      <td>1.1</td>\n",
       "      <td>93.994</td>\n",
       "      <td>-36.4</td>\n",
       "      <td>4.857</td>\n",
       "      <td>5191.0</td>\n",
       "      <td>0</td>\n",
       "    </tr>\n",
       "    <tr>\n",
       "      <th>3</th>\n",
       "      <td>40</td>\n",
       "      <td>0</td>\n",
       "      <td>1</td>\n",
       "      <td>1</td>\n",
       "      <td>0</td>\n",
       "      <td>0</td>\n",
       "      <td>0</td>\n",
       "      <td>1</td>\n",
       "      <td>6</td>\n",
       "      <td>1</td>\n",
       "      <td>151</td>\n",
       "      <td>1</td>\n",
       "      <td>999</td>\n",
       "      <td>0</td>\n",
       "      <td>1</td>\n",
       "      <td>1.1</td>\n",
       "      <td>93.994</td>\n",
       "      <td>-36.4</td>\n",
       "      <td>4.857</td>\n",
       "      <td>5191.0</td>\n",
       "      <td>0</td>\n",
       "    </tr>\n",
       "    <tr>\n",
       "      <th>4</th>\n",
       "      <td>56</td>\n",
       "      <td>7</td>\n",
       "      <td>1</td>\n",
       "      <td>3</td>\n",
       "      <td>0</td>\n",
       "      <td>0</td>\n",
       "      <td>2</td>\n",
       "      <td>1</td>\n",
       "      <td>6</td>\n",
       "      <td>1</td>\n",
       "      <td>307</td>\n",
       "      <td>1</td>\n",
       "      <td>999</td>\n",
       "      <td>0</td>\n",
       "      <td>1</td>\n",
       "      <td>1.1</td>\n",
       "      <td>93.994</td>\n",
       "      <td>-36.4</td>\n",
       "      <td>4.857</td>\n",
       "      <td>5191.0</td>\n",
       "      <td>0</td>\n",
       "    </tr>\n",
       "  </tbody>\n",
       "</table>\n",
       "</div>"
      ],
      "text/plain": [
       "   age  job  marital  education  default  housing  loan  contact  month  \\\n",
       "0   56    3        1          0        0        0     0        1      6   \n",
       "1   57    7        1          3        1        0     0        1      6   \n",
       "2   37    7        1          3        0        2     0        1      6   \n",
       "3   40    0        1          1        0        0     0        1      6   \n",
       "4   56    7        1          3        0        0     2        1      6   \n",
       "\n",
       "   day_of_week  duration  campaign  pdays  previous  poutcome  emp.var.rate  \\\n",
       "0            1       261         1    999         0         1           1.1   \n",
       "1            1       149         1    999         0         1           1.1   \n",
       "2            1       226         1    999         0         1           1.1   \n",
       "3            1       151         1    999         0         1           1.1   \n",
       "4            1       307         1    999         0         1           1.1   \n",
       "\n",
       "   cons.price.idx  cons.conf.idx  euribor3m  nr.employed  y  \n",
       "0          93.994          -36.4      4.857       5191.0  0  \n",
       "1          93.994          -36.4      4.857       5191.0  0  \n",
       "2          93.994          -36.4      4.857       5191.0  0  \n",
       "3          93.994          -36.4      4.857       5191.0  0  \n",
       "4          93.994          -36.4      4.857       5191.0  0  "
      ]
     },
     "execution_count": 99,
     "metadata": {},
     "output_type": "execute_result"
    }
   ],
   "source": [
    "pd.set_option('max_columns',None)\n",
    "td.head()"
   ]
  },
  {
   "cell_type": "code",
   "execution_count": 100,
   "metadata": {},
   "outputs": [
    {
     "data": {
      "text/plain": [
       "0    36548\n",
       "1     4640\n",
       "Name: y, dtype: int64"
      ]
     },
     "execution_count": 100,
     "metadata": {},
     "output_type": "execute_result"
    }
   ],
   "source": [
    "td['y'].value_counts()"
   ]
  },
  {
   "cell_type": "markdown",
   "metadata": {},
   "source": [
    "This is an imbalanced dataset. We will try both oversampling and undersampling methods and will understand which models gives better result."
   ]
  },
  {
   "cell_type": "code",
   "execution_count": 101,
   "metadata": {},
   "outputs": [],
   "source": [
    "from imblearn.over_sampling import SMOTE"
   ]
  },
  {
   "cell_type": "code",
   "execution_count": 102,
   "metadata": {},
   "outputs": [],
   "source": [
    "td_x= td.drop('y',axis=1)\n",
    "td_y= td['y']"
   ]
  },
  {
   "cell_type": "code",
   "execution_count": 103,
   "metadata": {},
   "outputs": [],
   "source": [
    "sm= SMOTE()\n",
    "x_train_sm,y_train_sm= sm.fit_resample(td_x,td_y)"
   ]
  },
  {
   "cell_type": "code",
   "execution_count": 104,
   "metadata": {},
   "outputs": [],
   "source": [
    "x_train_sm['y_train_sm']=y_train_sm"
   ]
  },
  {
   "cell_type": "code",
   "execution_count": 105,
   "metadata": {},
   "outputs": [
    {
     "data": {
      "text/html": [
       "<div>\n",
       "<style scoped>\n",
       "    .dataframe tbody tr th:only-of-type {\n",
       "        vertical-align: middle;\n",
       "    }\n",
       "\n",
       "    .dataframe tbody tr th {\n",
       "        vertical-align: top;\n",
       "    }\n",
       "\n",
       "    .dataframe thead th {\n",
       "        text-align: right;\n",
       "    }\n",
       "</style>\n",
       "<table border=\"1\" class=\"dataframe\">\n",
       "  <thead>\n",
       "    <tr style=\"text-align: right;\">\n",
       "      <th></th>\n",
       "      <th>age</th>\n",
       "      <th>job</th>\n",
       "      <th>marital</th>\n",
       "      <th>education</th>\n",
       "      <th>default</th>\n",
       "      <th>housing</th>\n",
       "      <th>loan</th>\n",
       "      <th>contact</th>\n",
       "      <th>month</th>\n",
       "      <th>day_of_week</th>\n",
       "      <th>duration</th>\n",
       "      <th>campaign</th>\n",
       "      <th>pdays</th>\n",
       "      <th>previous</th>\n",
       "      <th>poutcome</th>\n",
       "      <th>emp.var.rate</th>\n",
       "      <th>cons.price.idx</th>\n",
       "      <th>cons.conf.idx</th>\n",
       "      <th>euribor3m</th>\n",
       "      <th>nr.employed</th>\n",
       "      <th>y_train_sm</th>\n",
       "    </tr>\n",
       "  </thead>\n",
       "  <tbody>\n",
       "    <tr>\n",
       "      <th>0</th>\n",
       "      <td>56</td>\n",
       "      <td>3</td>\n",
       "      <td>1</td>\n",
       "      <td>0</td>\n",
       "      <td>0</td>\n",
       "      <td>0</td>\n",
       "      <td>0</td>\n",
       "      <td>1</td>\n",
       "      <td>6</td>\n",
       "      <td>1</td>\n",
       "      <td>261</td>\n",
       "      <td>1</td>\n",
       "      <td>999</td>\n",
       "      <td>0</td>\n",
       "      <td>1</td>\n",
       "      <td>1.1</td>\n",
       "      <td>93.994</td>\n",
       "      <td>-36.4</td>\n",
       "      <td>4.857</td>\n",
       "      <td>5191.0</td>\n",
       "      <td>0</td>\n",
       "    </tr>\n",
       "    <tr>\n",
       "      <th>1</th>\n",
       "      <td>57</td>\n",
       "      <td>7</td>\n",
       "      <td>1</td>\n",
       "      <td>3</td>\n",
       "      <td>1</td>\n",
       "      <td>0</td>\n",
       "      <td>0</td>\n",
       "      <td>1</td>\n",
       "      <td>6</td>\n",
       "      <td>1</td>\n",
       "      <td>149</td>\n",
       "      <td>1</td>\n",
       "      <td>999</td>\n",
       "      <td>0</td>\n",
       "      <td>1</td>\n",
       "      <td>1.1</td>\n",
       "      <td>93.994</td>\n",
       "      <td>-36.4</td>\n",
       "      <td>4.857</td>\n",
       "      <td>5191.0</td>\n",
       "      <td>0</td>\n",
       "    </tr>\n",
       "    <tr>\n",
       "      <th>2</th>\n",
       "      <td>37</td>\n",
       "      <td>7</td>\n",
       "      <td>1</td>\n",
       "      <td>3</td>\n",
       "      <td>0</td>\n",
       "      <td>2</td>\n",
       "      <td>0</td>\n",
       "      <td>1</td>\n",
       "      <td>6</td>\n",
       "      <td>1</td>\n",
       "      <td>226</td>\n",
       "      <td>1</td>\n",
       "      <td>999</td>\n",
       "      <td>0</td>\n",
       "      <td>1</td>\n",
       "      <td>1.1</td>\n",
       "      <td>93.994</td>\n",
       "      <td>-36.4</td>\n",
       "      <td>4.857</td>\n",
       "      <td>5191.0</td>\n",
       "      <td>0</td>\n",
       "    </tr>\n",
       "    <tr>\n",
       "      <th>3</th>\n",
       "      <td>40</td>\n",
       "      <td>0</td>\n",
       "      <td>1</td>\n",
       "      <td>1</td>\n",
       "      <td>0</td>\n",
       "      <td>0</td>\n",
       "      <td>0</td>\n",
       "      <td>1</td>\n",
       "      <td>6</td>\n",
       "      <td>1</td>\n",
       "      <td>151</td>\n",
       "      <td>1</td>\n",
       "      <td>999</td>\n",
       "      <td>0</td>\n",
       "      <td>1</td>\n",
       "      <td>1.1</td>\n",
       "      <td>93.994</td>\n",
       "      <td>-36.4</td>\n",
       "      <td>4.857</td>\n",
       "      <td>5191.0</td>\n",
       "      <td>0</td>\n",
       "    </tr>\n",
       "    <tr>\n",
       "      <th>4</th>\n",
       "      <td>56</td>\n",
       "      <td>7</td>\n",
       "      <td>1</td>\n",
       "      <td>3</td>\n",
       "      <td>0</td>\n",
       "      <td>0</td>\n",
       "      <td>2</td>\n",
       "      <td>1</td>\n",
       "      <td>6</td>\n",
       "      <td>1</td>\n",
       "      <td>307</td>\n",
       "      <td>1</td>\n",
       "      <td>999</td>\n",
       "      <td>0</td>\n",
       "      <td>1</td>\n",
       "      <td>1.1</td>\n",
       "      <td>93.994</td>\n",
       "      <td>-36.4</td>\n",
       "      <td>4.857</td>\n",
       "      <td>5191.0</td>\n",
       "      <td>0</td>\n",
       "    </tr>\n",
       "  </tbody>\n",
       "</table>\n",
       "</div>"
      ],
      "text/plain": [
       "   age  job  marital  education  default  housing  loan  contact  month  \\\n",
       "0   56    3        1          0        0        0     0        1      6   \n",
       "1   57    7        1          3        1        0     0        1      6   \n",
       "2   37    7        1          3        0        2     0        1      6   \n",
       "3   40    0        1          1        0        0     0        1      6   \n",
       "4   56    7        1          3        0        0     2        1      6   \n",
       "\n",
       "   day_of_week  duration  campaign  pdays  previous  poutcome  emp.var.rate  \\\n",
       "0            1       261         1    999         0         1           1.1   \n",
       "1            1       149         1    999         0         1           1.1   \n",
       "2            1       226         1    999         0         1           1.1   \n",
       "3            1       151         1    999         0         1           1.1   \n",
       "4            1       307         1    999         0         1           1.1   \n",
       "\n",
       "   cons.price.idx  cons.conf.idx  euribor3m  nr.employed  y_train_sm  \n",
       "0          93.994          -36.4      4.857       5191.0           0  \n",
       "1          93.994          -36.4      4.857       5191.0           0  \n",
       "2          93.994          -36.4      4.857       5191.0           0  \n",
       "3          93.994          -36.4      4.857       5191.0           0  \n",
       "4          93.994          -36.4      4.857       5191.0           0  "
      ]
     },
     "execution_count": 105,
     "metadata": {},
     "output_type": "execute_result"
    }
   ],
   "source": [
    "x_train_sm.head()"
   ]
  },
  {
   "cell_type": "code",
   "execution_count": 106,
   "metadata": {},
   "outputs": [
    {
     "data": {
      "text/plain": [
       "(73096, 21)"
      ]
     },
     "execution_count": 106,
     "metadata": {},
     "output_type": "execute_result"
    }
   ],
   "source": [
    "x_train_sm.shape"
   ]
  },
  {
   "cell_type": "code",
   "execution_count": 107,
   "metadata": {},
   "outputs": [
    {
     "name": "stdout",
     "output_type": "stream",
     "text": [
      "<class 'pandas.core.frame.DataFrame'>\n",
      "RangeIndex: 73096 entries, 0 to 73095\n",
      "Data columns (total 21 columns):\n",
      " #   Column          Non-Null Count  Dtype  \n",
      "---  ------          --------------  -----  \n",
      " 0   age             73096 non-null  int64  \n",
      " 1   job             73096 non-null  int32  \n",
      " 2   marital         73096 non-null  int32  \n",
      " 3   education       73096 non-null  int32  \n",
      " 4   default         73096 non-null  int32  \n",
      " 5   housing         73096 non-null  int32  \n",
      " 6   loan            73096 non-null  int32  \n",
      " 7   contact         73096 non-null  int32  \n",
      " 8   month           73096 non-null  int32  \n",
      " 9   day_of_week     73096 non-null  int32  \n",
      " 10  duration        73096 non-null  int64  \n",
      " 11  campaign        73096 non-null  int64  \n",
      " 12  pdays           73096 non-null  int64  \n",
      " 13  previous        73096 non-null  int64  \n",
      " 14  poutcome        73096 non-null  int32  \n",
      " 15  emp.var.rate    73096 non-null  float64\n",
      " 16  cons.price.idx  73096 non-null  float64\n",
      " 17  cons.conf.idx   73096 non-null  float64\n",
      " 18  euribor3m       73096 non-null  float64\n",
      " 19  nr.employed     73096 non-null  float64\n",
      " 20  y_train_sm      73096 non-null  int32  \n",
      "dtypes: float64(5), int32(11), int64(5)\n",
      "memory usage: 8.6 MB\n"
     ]
    }
   ],
   "source": [
    "x_train_sm.info()"
   ]
  },
  {
   "cell_type": "code",
   "execution_count": 108,
   "metadata": {},
   "outputs": [],
   "source": [
    "int_column = td.dtypes[td.dtypes == 'int32'].index | td.dtypes[td.dtypes == 'float64'].index"
   ]
  },
  {
   "cell_type": "code",
   "execution_count": 109,
   "metadata": {},
   "outputs": [],
   "source": [
    "X= x_train_sm.drop('y_train_sm',axis=1)\n",
    "Y= x_train_sm['y_train_sm']"
   ]
  },
  {
   "cell_type": "code",
   "execution_count": 110,
   "metadata": {},
   "outputs": [],
   "source": [
    "from sklearn.model_selection import train_test_split"
   ]
  },
  {
   "cell_type": "code",
   "execution_count": 116,
   "metadata": {},
   "outputs": [],
   "source": [
    "x_train,x_test,y_train,y_test= train_test_split(X,Y,random_state=0,test_size=0.3)"
   ]
  },
  {
   "cell_type": "code",
   "execution_count": 136,
   "metadata": {},
   "outputs": [],
   "source": [
    "from sklearn.tree import DecisionTreeClassifier\n",
    "from sklearn.ensemble import RandomForestClassifier,VotingClassifier \n",
    "from xgboost import XGBClassifier"
   ]
  },
  {
   "cell_type": "code",
   "execution_count": 123,
   "metadata": {},
   "outputs": [],
   "source": [
    "dt= DecisionTreeClassifier(criterion= 'entropy', splitter='best')"
   ]
  },
  {
   "cell_type": "code",
   "execution_count": 124,
   "metadata": {},
   "outputs": [],
   "source": [
    "model= dt.fit(x_train,y_train)"
   ]
  },
  {
   "cell_type": "code",
   "execution_count": 125,
   "metadata": {},
   "outputs": [],
   "source": [
    "pred= model.predict(x_test)"
   ]
  },
  {
   "cell_type": "code",
   "execution_count": 147,
   "metadata": {},
   "outputs": [],
   "source": [
    "from sklearn.metrics import classification_report,auc,roc_auc_score,accuracy_score,roc_curve,confusion_matrix"
   ]
  },
  {
   "cell_type": "code",
   "execution_count": 127,
   "metadata": {},
   "outputs": [
    {
     "name": "stdout",
     "output_type": "stream",
     "text": [
      "              precision    recall  f1-score   support\n",
      "\n",
      "           0       0.93      0.92      0.93     10857\n",
      "           1       0.92      0.94      0.93     11072\n",
      "\n",
      "    accuracy                           0.93     21929\n",
      "   macro avg       0.93      0.93      0.93     21929\n",
      "weighted avg       0.93      0.93      0.93     21929\n",
      "\n"
     ]
    }
   ],
   "source": [
    "print(classification_report(y_test,pred))"
   ]
  },
  {
   "cell_type": "code",
   "execution_count": 149,
   "metadata": {},
   "outputs": [
    {
     "name": "stderr",
     "output_type": "stream",
     "text": [
      "C:\\Users\\manis\\anaconda3\\lib\\site-packages\\xgboost\\sklearn.py:892: UserWarning: The use of label encoder in XGBClassifier is deprecated and will be removed in a future release. To remove this warning, do the following: 1) Pass option use_label_encoder=False when constructing XGBClassifier object; and 2) Encode your labels (y) as integers starting with 0, i.e. 0, 1, 2, ..., [num_class - 1].\n",
      "  warnings.warn(label_encoder_deprecation_msg, UserWarning)\n"
     ]
    },
    {
     "name": "stdout",
     "output_type": "stream",
     "text": [
      "[13:15:49] WARNING: C:/Users/Administrator/workspace/xgboost-win64_release_1.3.0/src/learner.cc:1061: Starting in XGBoost 1.3.0, the default evaluation metric used with the objective 'binary:logistic' was changed from 'error' to 'logloss'. Explicitly set eval_metric if you'd like to restore the old behavior.\n"
     ]
    },
    {
     "name": "stderr",
     "output_type": "stream",
     "text": [
      "C:\\Users\\manis\\anaconda3\\lib\\site-packages\\xgboost\\sklearn.py:892: UserWarning: The use of label encoder in XGBClassifier is deprecated and will be removed in a future release. To remove this warning, do the following: 1) Pass option use_label_encoder=False when constructing XGBClassifier object; and 2) Encode your labels (y) as integers starting with 0, i.e. 0, 1, 2, ..., [num_class - 1].\n",
      "  warnings.warn(label_encoder_deprecation_msg, UserWarning)\n"
     ]
    },
    {
     "name": "stdout",
     "output_type": "stream",
     "text": [
      "[13:16:00] WARNING: C:/Users/Administrator/workspace/xgboost-win64_release_1.3.0/src/learner.cc:1061: Starting in XGBoost 1.3.0, the default evaluation metric used with the objective 'binary:logistic' was changed from 'error' to 'logloss'. Explicitly set eval_metric if you'd like to restore the old behavior.\n",
      "Wall time: 26.5 s\n"
     ]
    }
   ],
   "source": [
    "%%time\n",
    "# Voting Classifier\n",
    "clf1 = DecisionTreeClassifier()\n",
    "clf2 = RandomForestClassifier(random_state=1)\n",
    "clf3 = XGBClassifier()\n",
    " \n",
    "\n",
    "# Instantiate the classfiers and make a list\n",
    "classifiers = [DecisionTreeClassifier(criterion='entropy', max_depth=6, min_samples_split=9,min_samples_leaf=2, random_state=12),\n",
    "               RandomForestClassifier(n_estimators=155, max_features='auto', max_depth=45, min_samples_split=10, random_state=27),\n",
    "               XGBClassifier(learning_rate =0.1, n_estimators=140, max_depth=5, min_child_weight=4, gamma=0.3, subsample=0.8, colsample_bytree=0.8, objective= 'binary:logistic', nthread=4, scale_pos_weight=1,seed=27),\n",
    "               VotingClassifier(estimators = [('DTree', clf1), ('rf', clf2), ('xgb', clf3)], voting ='soft')\n",
    "              ]\n",
    "\n",
    "# Define a result table as a DataFrame\n",
    "result_table = pd.DataFrame(columns=['classifiers', 'fpr1','tpr1','fpr','tpr','train_accuracy','test_accuracy', 'train_auc', 'test_auc', 'f1_score', 'precision','recall','confusion matrix','Report'])\n",
    "\n",
    "# Train the models and record the results\n",
    "for cls in classifiers:\n",
    "    model = cls.fit(x_train, y_train)\n",
    "    y_train_pred = model.predict(x_train)\n",
    "    y_test_pred = model.predict(x_test)\n",
    "    \n",
    "    train_accuracy= accuracy_score(y_train, y_train_pred)\n",
    "    test_accuracy= accuracy_score(y_test, y_test_pred)\n",
    "     \n",
    "    fpr, tpr, _ = roc_curve(y_test,  y_test_pred)\n",
    "    fpr1, tpr1, _ = roc_curve(y_train,  y_train_pred)\n",
    "    \n",
    "    train_auc = roc_auc_score(y_train, y_train_pred)\n",
    "    test_auc = roc_auc_score(y_test, y_test_pred)\n",
    "    \n",
    "    f1_score= metrics.f1_score(y_test, y_test_pred)\n",
    "    precision = metrics.precision_score(y_test, y_test_pred)\n",
    "    recall = metrics.recall_score(y_test, y_test_pred)\n",
    "    \n",
    "    conf_mat= confusion_matrix(y_test,y_test_pred)\n",
    "    report=classification_report(y_test,y_test_pred, digits=3, output_dict=True)\n",
    "    \n",
    "    result_table = result_table.append({'classifiers':cls.__class__.__name__,\n",
    "                                        'fpr1':fpr1,\n",
    "                                        'tpr1':tpr1,\n",
    "                                        'fpr':fpr, \n",
    "                                        'tpr':tpr, \n",
    "                                        'train_accuracy': train_accuracy,\n",
    "                                        'test_accuracy': test_accuracy,\n",
    "                                        'train_auc':train_auc,\n",
    "                                        'test_auc':test_auc,\n",
    "                                        'f1_score': f1_score,\n",
    "                                        'precision': precision,\n",
    "                                        'recall': recall,\n",
    "                                        'confusion matrix':conf_mat,\n",
    "                                        'Report':report}, ignore_index=True)\n",
    "\n",
    "# Set name of the classifiers as index labels\n",
    "result_table.set_index('classifiers', inplace=True)"
   ]
  },
  {
   "cell_type": "code",
   "execution_count": 150,
   "metadata": {},
   "outputs": [
    {
     "data": {
      "text/html": [
       "<div>\n",
       "<style scoped>\n",
       "    .dataframe tbody tr th:only-of-type {\n",
       "        vertical-align: middle;\n",
       "    }\n",
       "\n",
       "    .dataframe tbody tr th {\n",
       "        vertical-align: top;\n",
       "    }\n",
       "\n",
       "    .dataframe thead th {\n",
       "        text-align: right;\n",
       "    }\n",
       "</style>\n",
       "<table border=\"1\" class=\"dataframe\">\n",
       "  <thead>\n",
       "    <tr style=\"text-align: right;\">\n",
       "      <th></th>\n",
       "      <th>fpr1</th>\n",
       "      <th>tpr1</th>\n",
       "      <th>fpr</th>\n",
       "      <th>tpr</th>\n",
       "      <th>train_accuracy</th>\n",
       "      <th>test_accuracy</th>\n",
       "      <th>train_auc</th>\n",
       "      <th>test_auc</th>\n",
       "      <th>f1_score</th>\n",
       "      <th>precision</th>\n",
       "      <th>recall</th>\n",
       "      <th>confusion matrix</th>\n",
       "      <th>Report</th>\n",
       "    </tr>\n",
       "    <tr>\n",
       "      <th>classifiers</th>\n",
       "      <th></th>\n",
       "      <th></th>\n",
       "      <th></th>\n",
       "      <th></th>\n",
       "      <th></th>\n",
       "      <th></th>\n",
       "      <th></th>\n",
       "      <th></th>\n",
       "      <th></th>\n",
       "      <th></th>\n",
       "      <th></th>\n",
       "      <th></th>\n",
       "      <th></th>\n",
       "    </tr>\n",
       "  </thead>\n",
       "  <tbody>\n",
       "    <tr>\n",
       "      <th>DecisionTreeClassifier</th>\n",
       "      <td>[0.0, 0.12794363784983068, 1.0]</td>\n",
       "      <td>[0.0, 0.9265583294080704, 1.0]</td>\n",
       "      <td>[0.0, 0.1280280003684259, 1.0]</td>\n",
       "      <td>[0.0, 0.9281972543352601, 1.0]</td>\n",
       "      <td>0.899193</td>\n",
       "      <td>0.900360</td>\n",
       "      <td>0.899307</td>\n",
       "      <td>0.900085</td>\n",
       "      <td>0.903910</td>\n",
       "      <td>0.880861</td>\n",
       "      <td>0.928197</td>\n",
       "      <td>[[9467, 1390], [795, 10277]]</td>\n",
       "      <td>{'0': {'precision': 0.9225297213018905, 'recal...</td>\n",
       "    </tr>\n",
       "    <tr>\n",
       "      <th>RandomForestClassifier</th>\n",
       "      <td>[0.0, 0.02588455101008135, 1.0]</td>\n",
       "      <td>[0.0, 0.9897943162191867, 1.0]</td>\n",
       "      <td>[0.0, 0.0731325412176476, 1.0]</td>\n",
       "      <td>[0.0, 0.9657695086705202, 1.0]</td>\n",
       "      <td>0.981922</td>\n",
       "      <td>0.946509</td>\n",
       "      <td>0.981955</td>\n",
       "      <td>0.946318</td>\n",
       "      <td>0.948003</td>\n",
       "      <td>0.930878</td>\n",
       "      <td>0.965770</td>\n",
       "      <td>[[10063, 794], [379, 10693]]</td>\n",
       "      <td>{'0': {'precision': 0.9637042712124114, 'recal...</td>\n",
       "    </tr>\n",
       "    <tr>\n",
       "      <th>XGBClassifier</th>\n",
       "      <td>[0.0, 0.06897357051107392, 1.0]</td>\n",
       "      <td>[0.0, 0.9595305385460826, 1.0]</td>\n",
       "      <td>[0.0, 0.07819839734733351, 1.0]</td>\n",
       "      <td>[0.0, 0.956195809248555, 1.0]</td>\n",
       "      <td>0.945219</td>\n",
       "      <td>0.939167</td>\n",
       "      <td>0.945278</td>\n",
       "      <td>0.938999</td>\n",
       "      <td>0.940732</td>\n",
       "      <td>0.925761</td>\n",
       "      <td>0.956196</td>\n",
       "      <td>[[10008, 849], [485, 10587]]</td>\n",
       "      <td>{'0': {'precision': 0.9537787096159345, 'recal...</td>\n",
       "    </tr>\n",
       "    <tr>\n",
       "      <th>Model Ensemble</th>\n",
       "      <td>[0.0, 0.0, 1.0]</td>\n",
       "      <td>[0.0, 1.0, 1.0]</td>\n",
       "      <td>[0.0, 0.0668693009118541, 1.0]</td>\n",
       "      <td>[0.0, 0.9596278901734104, 1.0]</td>\n",
       "      <td>1.000000</td>\n",
       "      <td>0.946509</td>\n",
       "      <td>1.000000</td>\n",
       "      <td>0.946379</td>\n",
       "      <td>0.947688</td>\n",
       "      <td>0.936041</td>\n",
       "      <td>0.959628</td>\n",
       "      <td>[[10131, 726], [447, 10625]]</td>\n",
       "      <td>{'0': {'precision': 0.9577424844015882, 'recal...</td>\n",
       "    </tr>\n",
       "  </tbody>\n",
       "</table>\n",
       "</div>"
      ],
      "text/plain": [
       "                                                   fpr1  \\\n",
       "classifiers                                               \n",
       "DecisionTreeClassifier  [0.0, 0.12794363784983068, 1.0]   \n",
       "RandomForestClassifier  [0.0, 0.02588455101008135, 1.0]   \n",
       "XGBClassifier           [0.0, 0.06897357051107392, 1.0]   \n",
       "Model Ensemble                          [0.0, 0.0, 1.0]   \n",
       "\n",
       "                                                  tpr1  \\\n",
       "classifiers                                              \n",
       "DecisionTreeClassifier  [0.0, 0.9265583294080704, 1.0]   \n",
       "RandomForestClassifier  [0.0, 0.9897943162191867, 1.0]   \n",
       "XGBClassifier           [0.0, 0.9595305385460826, 1.0]   \n",
       "Model Ensemble                         [0.0, 1.0, 1.0]   \n",
       "\n",
       "                                                    fpr  \\\n",
       "classifiers                                               \n",
       "DecisionTreeClassifier   [0.0, 0.1280280003684259, 1.0]   \n",
       "RandomForestClassifier   [0.0, 0.0731325412176476, 1.0]   \n",
       "XGBClassifier           [0.0, 0.07819839734733351, 1.0]   \n",
       "Model Ensemble           [0.0, 0.0668693009118541, 1.0]   \n",
       "\n",
       "                                                   tpr  train_accuracy  \\\n",
       "classifiers                                                              \n",
       "DecisionTreeClassifier  [0.0, 0.9281972543352601, 1.0]        0.899193   \n",
       "RandomForestClassifier  [0.0, 0.9657695086705202, 1.0]        0.981922   \n",
       "XGBClassifier            [0.0, 0.956195809248555, 1.0]        0.945219   \n",
       "Model Ensemble          [0.0, 0.9596278901734104, 1.0]        1.000000   \n",
       "\n",
       "                        test_accuracy  train_auc  test_auc  f1_score  \\\n",
       "classifiers                                                            \n",
       "DecisionTreeClassifier       0.900360   0.899307  0.900085  0.903910   \n",
       "RandomForestClassifier       0.946509   0.981955  0.946318  0.948003   \n",
       "XGBClassifier                0.939167   0.945278  0.938999  0.940732   \n",
       "Model Ensemble               0.946509   1.000000  0.946379  0.947688   \n",
       "\n",
       "                        precision    recall              confusion matrix  \\\n",
       "classifiers                                                                 \n",
       "DecisionTreeClassifier   0.880861  0.928197  [[9467, 1390], [795, 10277]]   \n",
       "RandomForestClassifier   0.930878  0.965770  [[10063, 794], [379, 10693]]   \n",
       "XGBClassifier            0.925761  0.956196  [[10008, 849], [485, 10587]]   \n",
       "Model Ensemble           0.936041  0.959628  [[10131, 726], [447, 10625]]   \n",
       "\n",
       "                                                                   Report  \n",
       "classifiers                                                                \n",
       "DecisionTreeClassifier  {'0': {'precision': 0.9225297213018905, 'recal...  \n",
       "RandomForestClassifier  {'0': {'precision': 0.9637042712124114, 'recal...  \n",
       "XGBClassifier           {'0': {'precision': 0.9537787096159345, 'recal...  \n",
       "Model Ensemble          {'0': {'precision': 0.9577424844015882, 'recal...  "
      ]
     },
     "execution_count": 150,
     "metadata": {},
     "output_type": "execute_result"
    }
   ],
   "source": [
    "result_table.rename(index={'VotingClassifier':'Model Ensemble'},inplace=True)\n",
    "result_table"
   ]
  },
  {
   "cell_type": "code",
   "execution_count": 160,
   "metadata": {},
   "outputs": [
    {
     "data": {
      "image/png": "[encoded data removed]",
      "text/plain": [
       "<Figure size 864x360 with 1 Axes>"
      ]
     },
     "metadata": {
      "needs_background": "light"
     },
     "output_type": "display_data"
    }
   ],
   "source": [
    "fig = plt.figure(figsize=(12,5))\n",
    "\n",
    "for i in range(result_table.shape[0]):\n",
    "    plt.plot(result_table.iloc[i,]['fpr'], \n",
    "             result_table.iloc[i,]['tpr'], \n",
    "             label=\"{}, AUC={:.3f}\".format(result_table.index[i], result_table.iloc[i,]['test_auc']))\n",
    "    \n",
    "plt.plot([0,1], [0,1], color='orange', linestyle='--')\n",
    "plt.xticks(np.arange(0.0, 1.1, step=0.1))\n",
    "plt.xlabel(\"False Positive Rate\", fontsize=15)\n",
    "plt.yticks(np.arange(0.0, 1.1, step=0.1))\n",
    "plt.ylabel(\"True Positive Rate\", fontsize=15)\n",
    "plt.title('ROC Curve Analysis', fontweight='bold', fontsize=15)\n",
    "plt.legend(prop={'size':13}, loc='lower right')\n",
    "plt.show()\n"
   ]
  },
  {
   "cell_type": "markdown",
   "metadata": {},
   "source": [
    "we can see after performing SMOTE and trying various model, Random Forest Classifier is giving 94.6% accuracy"
   ]
  },
  {
   "cell_type": "markdown",
   "metadata": {},
   "source": [
    "Undesampling"
   ]
  },
  {
   "cell_type": "code",
   "execution_count": 161,
   "metadata": {},
   "outputs": [],
   "source": [
    "from imblearn.under_sampling import TomekLinks"
   ]
  },
  {
   "cell_type": "code",
   "execution_count": 163,
   "metadata": {},
   "outputs": [],
   "source": [
    "tl = TomekLinks(sampling_strategy='majority')"
   ]
  },
  {
   "cell_type": "code",
   "execution_count": 164,
   "metadata": {},
   "outputs": [],
   "source": [
    "x_tl, y_tl= tl.fit_sample(td_x,td_y)"
   ]
  },
  {
   "cell_type": "code",
   "execution_count": 170,
   "metadata": {},
   "outputs": [],
   "source": [
    "x_tl['y_tl']=y_tl"
   ]
  },
  {
   "cell_type": "code",
   "execution_count": 171,
   "metadata": {},
   "outputs": [],
   "source": [
    "X1= x_tl.drop('y_tl',axis=1)\n",
    "Y1= x_tl['y_tl']\n",
    "\n",
    "from sklearn.model_selection import train_test_split\n",
    "\n",
    "x_train,x_test,y_train,y_test= train_test_split(X1,Y1,random_state=0,test_size=0.3)"
   ]
  },
  {
   "cell_type": "code",
   "execution_count": 172,
   "metadata": {},
   "outputs": [
    {
     "name": "stderr",
     "output_type": "stream",
     "text": [
      "C:\\Users\\manis\\anaconda3\\lib\\site-packages\\xgboost\\sklearn.py:892: UserWarning: The use of label encoder in XGBClassifier is deprecated and will be removed in a future release. To remove this warning, do the following: 1) Pass option use_label_encoder=False when constructing XGBClassifier object; and 2) Encode your labels (y) as integers starting with 0, i.e. 0, 1, 2, ..., [num_class - 1].\n",
      "  warnings.warn(label_encoder_deprecation_msg, UserWarning)\n"
     ]
    },
    {
     "name": "stdout",
     "output_type": "stream",
     "text": [
      "[13:55:16] WARNING: C:/Users/Administrator/workspace/xgboost-win64_release_1.3.0/src/learner.cc:1061: Starting in XGBoost 1.3.0, the default evaluation metric used with the objective 'binary:logistic' was changed from 'error' to 'logloss'. Explicitly set eval_metric if you'd like to restore the old behavior.\n"
     ]
    },
    {
     "name": "stderr",
     "output_type": "stream",
     "text": [
      "C:\\Users\\manis\\anaconda3\\lib\\site-packages\\xgboost\\sklearn.py:892: UserWarning: The use of label encoder in XGBClassifier is deprecated and will be removed in a future release. To remove this warning, do the following: 1) Pass option use_label_encoder=False when constructing XGBClassifier object; and 2) Encode your labels (y) as integers starting with 0, i.e. 0, 1, 2, ..., [num_class - 1].\n",
      "  warnings.warn(label_encoder_deprecation_msg, UserWarning)\n"
     ]
    },
    {
     "name": "stdout",
     "output_type": "stream",
     "text": [
      "[13:55:26] WARNING: C:/Users/Administrator/workspace/xgboost-win64_release_1.3.0/src/learner.cc:1061: Starting in XGBoost 1.3.0, the default evaluation metric used with the objective 'binary:logistic' was changed from 'error' to 'logloss'. Explicitly set eval_metric if you'd like to restore the old behavior.\n",
      "Wall time: 27.8 s\n"
     ]
    }
   ],
   "source": [
    "%%time\n",
    "# Voting Classifier\n",
    "clf1 = DecisionTreeClassifier()\n",
    "clf2 = RandomForestClassifier(random_state=1)\n",
    "clf3 = XGBClassifier()\n",
    " \n",
    "\n",
    "# Instantiate the classfiers and make a list\n",
    "classifiers = [DecisionTreeClassifier(criterion='entropy', max_depth=6, min_samples_split=9,min_samples_leaf=2, random_state=12),\n",
    "               RandomForestClassifier(n_estimators=155, max_features='auto', max_depth=45, min_samples_split=10, random_state=27),\n",
    "               XGBClassifier(learning_rate =0.1, n_estimators=140, max_depth=5, min_child_weight=4, gamma=0.3, subsample=0.8, colsample_bytree=0.8, objective= 'binary:logistic', nthread=4, scale_pos_weight=1,seed=27),\n",
    "               VotingClassifier(estimators = [('DTree', clf1), ('rf', clf2), ('xgb', clf3)], voting ='soft')\n",
    "              ]\n",
    "\n",
    "# Define a result table as a DataFrame\n",
    "result_table = pd.DataFrame(columns=['classifiers', 'fpr1','tpr1','fpr','tpr','train_accuracy','test_accuracy', 'train_auc', 'test_auc', 'f1_score', 'precision','recall','confusion matrix','Report'])\n",
    "\n",
    "# Train the models and record the results\n",
    "for cls in classifiers:\n",
    "    model = cls.fit(x_train, y_train)\n",
    "    y_train_pred = model.predict(x_train)\n",
    "    y_test_pred = model.predict(x_test)\n",
    "    \n",
    "    train_accuracy= accuracy_score(y_train, y_train_pred)\n",
    "    test_accuracy= accuracy_score(y_test, y_test_pred)\n",
    "     \n",
    "    fpr, tpr, _ = roc_curve(y_test,  y_test_pred)\n",
    "    fpr1, tpr1, _ = roc_curve(y_train,  y_train_pred)\n",
    "    \n",
    "    train_auc = roc_auc_score(y_train, y_train_pred)\n",
    "    test_auc = roc_auc_score(y_test, y_test_pred)\n",
    "    \n",
    "    f1_score= metrics.f1_score(y_test, y_test_pred)\n",
    "    precision = metrics.precision_score(y_test, y_test_pred)\n",
    "    recall = metrics.recall_score(y_test, y_test_pred)\n",
    "    \n",
    "    conf_mat= confusion_matrix(y_test,y_test_pred)\n",
    "    report=classification_report(y_test,y_test_pred, digits=3, output_dict=True)\n",
    "    \n",
    "    result_table = result_table.append({'classifiers':cls.__class__.__name__,\n",
    "                                        'fpr1':fpr1,\n",
    "                                        'tpr1':tpr1,\n",
    "                                        'fpr':fpr, \n",
    "                                        'tpr':tpr, \n",
    "                                        'train_accuracy': train_accuracy,\n",
    "                                        'test_accuracy': test_accuracy,\n",
    "                                        'train_auc':train_auc,\n",
    "                                        'test_auc':test_auc,\n",
    "                                        'f1_score': f1_score,\n",
    "                                        'precision': precision,\n",
    "                                        'recall': recall,\n",
    "                                        'confusion matrix':conf_mat,\n",
    "                                        'Report':report}, ignore_index=True)\n",
    "\n",
    "# Set name of the classifiers as index labels\n",
    "result_table.set_index('classifiers', inplace=True)"
   ]
  },
  {
   "cell_type": "code",
   "execution_count": 173,
   "metadata": {},
   "outputs": [
    {
     "data": {
      "text/html": [
       "<div>\n",
       "<style scoped>\n",
       "    .dataframe tbody tr th:only-of-type {\n",
       "        vertical-align: middle;\n",
       "    }\n",
       "\n",
       "    .dataframe tbody tr th {\n",
       "        vertical-align: top;\n",
       "    }\n",
       "\n",
       "    .dataframe thead th {\n",
       "        text-align: right;\n",
       "    }\n",
       "</style>\n",
       "<table border=\"1\" class=\"dataframe\">\n",
       "  <thead>\n",
       "    <tr style=\"text-align: right;\">\n",
       "      <th></th>\n",
       "      <th>fpr1</th>\n",
       "      <th>tpr1</th>\n",
       "      <th>fpr</th>\n",
       "      <th>tpr</th>\n",
       "      <th>train_accuracy</th>\n",
       "      <th>test_accuracy</th>\n",
       "      <th>train_auc</th>\n",
       "      <th>test_auc</th>\n",
       "      <th>f1_score</th>\n",
       "      <th>precision</th>\n",
       "      <th>recall</th>\n",
       "      <th>confusion matrix</th>\n",
       "      <th>Report</th>\n",
       "    </tr>\n",
       "    <tr>\n",
       "      <th>classifiers</th>\n",
       "      <th></th>\n",
       "      <th></th>\n",
       "      <th></th>\n",
       "      <th></th>\n",
       "      <th></th>\n",
       "      <th></th>\n",
       "      <th></th>\n",
       "      <th></th>\n",
       "      <th></th>\n",
       "      <th></th>\n",
       "      <th></th>\n",
       "      <th></th>\n",
       "      <th></th>\n",
       "    </tr>\n",
       "  </thead>\n",
       "  <tbody>\n",
       "    <tr>\n",
       "      <th>DecisionTreeClassifier</th>\n",
       "      <td>[0.0, 0.03440292445166531, 1.0]</td>\n",
       "      <td>[0.0, 0.6409406089840217, 1.0]</td>\n",
       "      <td>[0.0, 0.03633802816901408, 1.0]</td>\n",
       "      <td>[0.0, 0.6296296296296297, 1.0]</td>\n",
       "      <td>0.927050</td>\n",
       "      <td>0.926752</td>\n",
       "      <td>0.803269</td>\n",
       "      <td>0.796646</td>\n",
       "      <td>0.655132</td>\n",
       "      <td>0.682787</td>\n",
       "      <td>0.629630</td>\n",
       "      <td>[[10263, 387], [490, 833]]</td>\n",
       "      <td>{'0': {'precision': 0.9544313214916768, 'recal...</td>\n",
       "    </tr>\n",
       "    <tr>\n",
       "      <th>RandomForestClassifier</th>\n",
       "      <td>[0.0, 0.009463850528025996, 1.0]</td>\n",
       "      <td>[0.0, 0.8375037684654808, 1.0]</td>\n",
       "      <td>[0.0, 0.03530516431924883, 1.0]</td>\n",
       "      <td>[0.0, 0.6674225245653818, 1.0]</td>\n",
       "      <td>0.972366</td>\n",
       "      <td>0.931847</td>\n",
       "      <td>0.914020</td>\n",
       "      <td>0.816059</td>\n",
       "      <td>0.683966</td>\n",
       "      <td>0.701350</td>\n",
       "      <td>0.667423</td>\n",
       "      <td>[[10274, 376], [440, 883]]</td>\n",
       "      <td>{'0': {'precision': 0.9589322381930184, 'recal...</td>\n",
       "    </tr>\n",
       "    <tr>\n",
       "      <th>XGBClassifier</th>\n",
       "      <td>[0.0, 0.027741673436230706, 1.0]</td>\n",
       "      <td>[0.0, 0.7163099186011456, 1.0]</td>\n",
       "      <td>[0.0, 0.03690140845070423, 1.0]</td>\n",
       "      <td>[0.0, 0.6817838246409675, 1.0]</td>\n",
       "      <td>0.941869</td>\n",
       "      <td>0.932014</td>\n",
       "      <td>0.844284</td>\n",
       "      <td>0.822441</td>\n",
       "      <td>0.689076</td>\n",
       "      <td>0.696525</td>\n",
       "      <td>0.681784</td>\n",
       "      <td>[[10257, 393], [421, 902]]</td>\n",
       "      <td>{'0': {'precision': 0.9605731410376475, 'recal...</td>\n",
       "    </tr>\n",
       "    <tr>\n",
       "      <th>Model Ensemble</th>\n",
       "      <td>[0.0, 0.0, 1.0]</td>\n",
       "      <td>[0.0, 1.0, 1.0]</td>\n",
       "      <td>[0.0, 0.04018779342723005, 1.0]</td>\n",
       "      <td>[0.0, 0.6432350718065004, 1.0]</td>\n",
       "      <td>1.000000</td>\n",
       "      <td>0.924831</td>\n",
       "      <td>1.000000</td>\n",
       "      <td>0.801524</td>\n",
       "      <td>0.654112</td>\n",
       "      <td>0.665364</td>\n",
       "      <td>0.643235</td>\n",
       "      <td>[[10222, 428], [472, 851]]</td>\n",
       "      <td>{'0': {'precision': 0.9558631008041892, 'recal...</td>\n",
       "    </tr>\n",
       "  </tbody>\n",
       "</table>\n",
       "</div>"
      ],
      "text/plain": [
       "                                                    fpr1  \\\n",
       "classifiers                                                \n",
       "DecisionTreeClassifier   [0.0, 0.03440292445166531, 1.0]   \n",
       "RandomForestClassifier  [0.0, 0.009463850528025996, 1.0]   \n",
       "XGBClassifier           [0.0, 0.027741673436230706, 1.0]   \n",
       "Model Ensemble                           [0.0, 0.0, 1.0]   \n",
       "\n",
       "                                                  tpr1  \\\n",
       "classifiers                                              \n",
       "DecisionTreeClassifier  [0.0, 0.6409406089840217, 1.0]   \n",
       "RandomForestClassifier  [0.0, 0.8375037684654808, 1.0]   \n",
       "XGBClassifier           [0.0, 0.7163099186011456, 1.0]   \n",
       "Model Ensemble                         [0.0, 1.0, 1.0]   \n",
       "\n",
       "                                                    fpr  \\\n",
       "classifiers                                               \n",
       "DecisionTreeClassifier  [0.0, 0.03633802816901408, 1.0]   \n",
       "RandomForestClassifier  [0.0, 0.03530516431924883, 1.0]   \n",
       "XGBClassifier           [0.0, 0.03690140845070423, 1.0]   \n",
       "Model Ensemble          [0.0, 0.04018779342723005, 1.0]   \n",
       "\n",
       "                                                   tpr  train_accuracy  \\\n",
       "classifiers                                                              \n",
       "DecisionTreeClassifier  [0.0, 0.6296296296296297, 1.0]        0.927050   \n",
       "RandomForestClassifier  [0.0, 0.6674225245653818, 1.0]        0.972366   \n",
       "XGBClassifier           [0.0, 0.6817838246409675, 1.0]        0.941869   \n",
       "Model Ensemble          [0.0, 0.6432350718065004, 1.0]        1.000000   \n",
       "\n",
       "                        test_accuracy  train_auc  test_auc  f1_score  \\\n",
       "classifiers                                                            \n",
       "DecisionTreeClassifier       0.926752   0.803269  0.796646  0.655132   \n",
       "RandomForestClassifier       0.931847   0.914020  0.816059  0.683966   \n",
       "XGBClassifier                0.932014   0.844284  0.822441  0.689076   \n",
       "Model Ensemble               0.924831   1.000000  0.801524  0.654112   \n",
       "\n",
       "                        precision    recall            confusion matrix  \\\n",
       "classifiers                                                               \n",
       "DecisionTreeClassifier   0.682787  0.629630  [[10263, 387], [490, 833]]   \n",
       "RandomForestClassifier   0.701350  0.667423  [[10274, 376], [440, 883]]   \n",
       "XGBClassifier            0.696525  0.681784  [[10257, 393], [421, 902]]   \n",
       "Model Ensemble           0.665364  0.643235  [[10222, 428], [472, 851]]   \n",
       "\n",
       "                                                                   Report  \n",
       "classifiers                                                                \n",
       "DecisionTreeClassifier  {'0': {'precision': 0.9544313214916768, 'recal...  \n",
       "RandomForestClassifier  {'0': {'precision': 0.9589322381930184, 'recal...  \n",
       "XGBClassifier           {'0': {'precision': 0.9605731410376475, 'recal...  \n",
       "Model Ensemble          {'0': {'precision': 0.9558631008041892, 'recal...  "
      ]
     },
     "execution_count": 173,
     "metadata": {},
     "output_type": "execute_result"
    }
   ],
   "source": [
    "result_table.rename(index={'VotingClassifier':'Model Ensemble'},inplace=True)\n",
    "result_table"
   ]
  },
  {
   "cell_type": "code",
   "execution_count": 174,
   "metadata": {},
   "outputs": [
    {
     "data": {
      "image/png": "[encoded data removed]",
      "text/plain": [
       "<Figure size 864x360 with 1 Axes>"
      ]
     },
     "metadata": {
      "needs_background": "light"
     },
     "output_type": "display_data"
    }
   ],
   "source": [
    "fig = plt.figure(figsize=(12,5))\n",
    "\n",
    "for i in range(result_table.shape[0]):\n",
    "    plt.plot(result_table.iloc[i,]['fpr'], \n",
    "             result_table.iloc[i,]['tpr'], \n",
    "             label=\"{}, AUC={:.3f}\".format(result_table.index[i], result_table.iloc[i,]['test_auc']))\n",
    "    \n",
    "plt.plot([0,1], [0,1], color='orange', linestyle='--')\n",
    "plt.xticks(np.arange(0.0, 1.1, step=0.1))\n",
    "plt.xlabel(\"False Positive Rate\", fontsize=15)\n",
    "plt.yticks(np.arange(0.0, 1.1, step=0.1))\n",
    "plt.ylabel(\"True Positive Rate\", fontsize=15)\n",
    "plt.title('ROC Curve Analysis', fontweight='bold', fontsize=15)\n",
    "plt.legend(prop={'size':13}, loc='lower right')\n",
    "plt.show()"
   ]
  },
  {
   "cell_type": "markdown",
   "metadata": {},
   "source": [
    "we can observe that undersampling doesn't perform when compared with oversampling. So,Random Forest Classifier with SMOTE performs better."
   ]
  }
 ],
 "metadata": {
  "kernelspec": {
   "display_name": "Python 3",
   "language": "python",
   "name": "python3"
  },
  "language_info": {
   "codemirror_mode": {
    "name": "ipython",
    "version": 3
   },
   "file_extension": ".py",
   "mimetype": "text/x-python",
   "name": "python",
   "nbconvert_exporter": "python",
   "pygments_lexer": "ipython3",
   "version": "3.8.3"
  }
 },
 "nbformat": 4,
 "nbformat_minor": 4
}
